{
  "nbformat": 4,
  "nbformat_minor": 0,
  "metadata": {
    "colab": {
      "provenance": []
    },
    "kernelspec": {
      "name": "python3",
      "display_name": "Python 3"
    },
    "language_info": {
      "name": "python"
    }
  },
  "cells": [
    {
      "cell_type": "code",
      "execution_count": 2,
      "metadata": {
        "colab": {
          "base_uri": "https://localhost:8080/"
        },
        "id": "TbEShxZhqJGc",
        "outputId": "611175a3-1ca1-4ce0-99d2-99dc55bb9de7"
      },
      "outputs": [
        {
          "output_type": "stream",
          "name": "stdout",
          "text": [
            "Collecting rdkit\n",
            "  Downloading rdkit-2024.3.5-cp310-cp310-manylinux_2_28_x86_64.whl.metadata (3.9 kB)\n",
            "Requirement already satisfied: numpy in /usr/local/lib/python3.10/dist-packages (from rdkit) (1.26.4)\n",
            "Requirement already satisfied: Pillow in /usr/local/lib/python3.10/dist-packages (from rdkit) (10.4.0)\n",
            "Downloading rdkit-2024.3.5-cp310-cp310-manylinux_2_28_x86_64.whl (33.1 MB)\n",
            "\u001b[2K   \u001b[90m━━━━━━━━━━━━━━━━━━━━━━━━━━━━━━━━━━━━━━━━\u001b[0m \u001b[32m33.1/33.1 MB\u001b[0m \u001b[31m41.3 MB/s\u001b[0m eta \u001b[36m0:00:00\u001b[0m\n",
            "\u001b[?25hInstalling collected packages: rdkit\n",
            "Successfully installed rdkit-2024.3.5\n",
            "Collecting py3Dmol\n",
            "  Downloading py3Dmol-2.4.0-py2.py3-none-any.whl.metadata (1.9 kB)\n",
            "Downloading py3Dmol-2.4.0-py2.py3-none-any.whl (7.0 kB)\n",
            "Installing collected packages: py3Dmol\n",
            "Successfully installed py3Dmol-2.4.0\n"
          ]
        }
      ],
      "source": [
        "!pip install rdkit\n",
        "!pip install py3Dmol"
      ]
    },
    {
      "cell_type": "code",
      "source": [
        "from rdkit import Chem\n",
        "from rdkit.Chem import AllChem\n",
        "import py3Dmol\n",
        "\n",
        "# Define your molecule using SMILES\n",
        "smiles = \"CC(=O)Nc1ccc(O)cc1\"\n",
        "mol = Chem.MolFromSmiles(smiles)\n",
        "\n",
        "# Generate 3D coordinates\n",
        "AllChem.EmbedMolecule(mol)\n",
        "AllChem.UFFOptimizeMolecule(mol)\n",
        "\n",
        "# Get 3D coordinates as a MolBlock\n",
        "mol_block = Chem.MolToMolBlock(mol)\n",
        "\n",
        "# Visualize using Py3Dmol\n",
        "viewer = py3Dmol.view(width=800, height=400)\n",
        "viewer.addModel(mol_block, 'mol')\n",
        "viewer.setStyle({'stick': {}})\n",
        "viewer.zoomTo()\n",
        "viewer.show()\n"
      ],
      "metadata": {
        "colab": {
          "base_uri": "https://localhost:8080/",
          "height": 453
        },
        "id": "2q9K5xgaqJz6",
        "outputId": "0a3482b1-e2b1-4ea8-d208-2586b1ac9476"
      },
      "execution_count": 5,
      "outputs": [
        {
          "output_type": "stream",
          "name": "stderr",
          "text": [
            "[12:19:58] Molecule does not have explicit Hs. Consider calling AddHs()\n",
            "[12:19:58] Molecule does not have explicit Hs. Consider calling AddHs()\n"
          ]
        },
        {
          "output_type": "display_data",
          "data": {
            "application/3dmoljs_load.v0": "<div id=\"3dmolviewer_17295995982409682\"  style=\"position: relative; width: 800px; height: 400px;\">\n        <p id=\"3dmolwarning_17295995982409682\" style=\"background-color:#ffcccc;color:black\">3Dmol.js failed to load for some reason.  Please check your browser console for error messages.<br></p>\n        </div>\n<script>\n\nvar loadScriptAsync = function(uri){\n  return new Promise((resolve, reject) => {\n    //this is to ignore the existence of requirejs amd\n    var savedexports, savedmodule;\n    if (typeof exports !== 'undefined') savedexports = exports;\n    else exports = {}\n    if (typeof module !== 'undefined') savedmodule = module;\n    else module = {}\n\n    var tag = document.createElement('script');\n    tag.src = uri;\n    tag.async = true;\n    tag.onload = () => {\n        exports = savedexports;\n        module = savedmodule;\n        resolve();\n    };\n  var firstScriptTag = document.getElementsByTagName('script')[0];\n  firstScriptTag.parentNode.insertBefore(tag, firstScriptTag);\n});\n};\n\nif(typeof $3Dmolpromise === 'undefined') {\n$3Dmolpromise = null;\n  $3Dmolpromise = loadScriptAsync('https://cdnjs.cloudflare.com/ajax/libs/3Dmol/2.4.0/3Dmol-min.js');\n}\n\nvar viewer_17295995982409682 = null;\nvar warn = document.getElementById(\"3dmolwarning_17295995982409682\");\nif(warn) {\n    warn.parentNode.removeChild(warn);\n}\n$3Dmolpromise.then(function() {\nviewer_17295995982409682 = $3Dmol.createViewer(document.getElementById(\"3dmolviewer_17295995982409682\"),{backgroundColor:\"white\"});\nviewer_17295995982409682.zoomTo();\n\tviewer_17295995982409682.addModel(\"\\n     RDKit          3D\\n\\n 11 11  0  0  0  0  0  0  0  0999 V2000\\n    3.9292    1.1876    0.1598 C   0  0  0  0  0  0  0  0  0  0  0  0\\n    2.6369    0.4856    0.3717 C   0  0  0  0  0  0  0  0  0  0  0  0\\n    2.5845   -0.4811    1.1768 O   0  0  0  0  0  0  0  0  0  0  0  0\\n    1.4756    0.9231   -0.3450 N   0  0  0  0  0  0  0  0  0  0  0  0\\n    0.1567    0.3655   -0.2638 C   0  0  0  0  0  0  0  0  0  0  0  0\\n   -0.8609    0.9272   -1.0432 C   0  0  0  0  0  0  0  0  0  0  0  0\\n   -2.1594    0.4112   -0.9911 C   0  0  0  0  0  0  0  0  0  0  0  0\\n   -2.4477   -0.6723   -0.1569 C   0  0  0  0  0  0  0  0  0  0  0  0\\n   -3.7366   -1.1847   -0.1050 O   0  0  0  0  0  0  0  0  0  0  0  0\\n   -1.4380   -1.2395    0.6249 C   0  0  0  0  0  0  0  0  0  0  0  0\\n   -0.1403   -0.7226    0.5718 C   0  0  0  0  0  0  0  0  0  0  0  0\\n  1  2  1  0\\n  2  3  2  0\\n  2  4  1  0\\n  4  5  1  0\\n  5  6  2  0\\n  6  7  1  0\\n  7  8  2  0\\n  8  9  1  0\\n  8 10  1  0\\n 10 11  2  0\\n 11  5  1  0\\nM  END\\n\",\"mol\");\n\tviewer_17295995982409682.setStyle({\"stick\": {}});\n\tviewer_17295995982409682.zoomTo();\nviewer_17295995982409682.render();\n});\n</script>",
            "text/html": [
              "<div id=\"3dmolviewer_17295995982409682\"  style=\"position: relative; width: 800px; height: 400px;\">\n",
              "        <p id=\"3dmolwarning_17295995982409682\" style=\"background-color:#ffcccc;color:black\">3Dmol.js failed to load for some reason.  Please check your browser console for error messages.<br></p>\n",
              "        </div>\n",
              "<script>\n",
              "\n",
              "var loadScriptAsync = function(uri){\n",
              "  return new Promise((resolve, reject) => {\n",
              "    //this is to ignore the existence of requirejs amd\n",
              "    var savedexports, savedmodule;\n",
              "    if (typeof exports !== 'undefined') savedexports = exports;\n",
              "    else exports = {}\n",
              "    if (typeof module !== 'undefined') savedmodule = module;\n",
              "    else module = {}\n",
              "\n",
              "    var tag = document.createElement('script');\n",
              "    tag.src = uri;\n",
              "    tag.async = true;\n",
              "    tag.onload = () => {\n",
              "        exports = savedexports;\n",
              "        module = savedmodule;\n",
              "        resolve();\n",
              "    };\n",
              "  var firstScriptTag = document.getElementsByTagName('script')[0];\n",
              "  firstScriptTag.parentNode.insertBefore(tag, firstScriptTag);\n",
              "});\n",
              "};\n",
              "\n",
              "if(typeof $3Dmolpromise === 'undefined') {\n",
              "$3Dmolpromise = null;\n",
              "  $3Dmolpromise = loadScriptAsync('https://cdnjs.cloudflare.com/ajax/libs/3Dmol/2.4.0/3Dmol-min.js');\n",
              "}\n",
              "\n",
              "var viewer_17295995982409682 = null;\n",
              "var warn = document.getElementById(\"3dmolwarning_17295995982409682\");\n",
              "if(warn) {\n",
              "    warn.parentNode.removeChild(warn);\n",
              "}\n",
              "$3Dmolpromise.then(function() {\n",
              "viewer_17295995982409682 = $3Dmol.createViewer(document.getElementById(\"3dmolviewer_17295995982409682\"),{backgroundColor:\"white\"});\n",
              "viewer_17295995982409682.zoomTo();\n",
              "\tviewer_17295995982409682.addModel(\"\\n     RDKit          3D\\n\\n 11 11  0  0  0  0  0  0  0  0999 V2000\\n    3.9292    1.1876    0.1598 C   0  0  0  0  0  0  0  0  0  0  0  0\\n    2.6369    0.4856    0.3717 C   0  0  0  0  0  0  0  0  0  0  0  0\\n    2.5845   -0.4811    1.1768 O   0  0  0  0  0  0  0  0  0  0  0  0\\n    1.4756    0.9231   -0.3450 N   0  0  0  0  0  0  0  0  0  0  0  0\\n    0.1567    0.3655   -0.2638 C   0  0  0  0  0  0  0  0  0  0  0  0\\n   -0.8609    0.9272   -1.0432 C   0  0  0  0  0  0  0  0  0  0  0  0\\n   -2.1594    0.4112   -0.9911 C   0  0  0  0  0  0  0  0  0  0  0  0\\n   -2.4477   -0.6723   -0.1569 C   0  0  0  0  0  0  0  0  0  0  0  0\\n   -3.7366   -1.1847   -0.1050 O   0  0  0  0  0  0  0  0  0  0  0  0\\n   -1.4380   -1.2395    0.6249 C   0  0  0  0  0  0  0  0  0  0  0  0\\n   -0.1403   -0.7226    0.5718 C   0  0  0  0  0  0  0  0  0  0  0  0\\n  1  2  1  0\\n  2  3  2  0\\n  2  4  1  0\\n  4  5  1  0\\n  5  6  2  0\\n  6  7  1  0\\n  7  8  2  0\\n  8  9  1  0\\n  8 10  1  0\\n 10 11  2  0\\n 11  5  1  0\\nM  END\\n\",\"mol\");\n",
              "\tviewer_17295995982409682.setStyle({\"stick\": {}});\n",
              "\tviewer_17295995982409682.zoomTo();\n",
              "viewer_17295995982409682.render();\n",
              "});\n",
              "</script>"
            ]
          },
          "metadata": {}
        }
      ]
    }
  ]
}